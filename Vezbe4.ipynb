{
 "cells": [
  {
   "cell_type": "markdown",
   "id": "86e3203c-79fd-42a7-964f-3929692061d4",
   "metadata": {},
   "source": [
    "# Pomracenja i Tranziti"
   ]
  },
  {
   "cell_type": "code",
   "execution_count": 9,
   "id": "efd7f296-e776-44b3-a671-3fdccca2fa1a",
   "metadata": {},
   "outputs": [],
   "source": [
    "import ephem\n",
    "import numpy as np\n",
    "import matplotlib.pyplot as plt\n",
    "import astropy as ap"
   ]
  },
  {
   "cell_type": "markdown",
   "id": "33a9d6c4-6424-4182-b2e0-7d7dcac362d8",
   "metadata": {},
   "source": [
    "##### 1. Napisati kod koji racuna datume i vremena pomracenja Sunca u narednih 10 godina."
   ]
  },
  {
   "cell_type": "code",
   "execution_count": 1,
   "id": "f474a9b4-4323-4921-a304-5c2432a0163c",
   "metadata": {},
   "outputs": [
    {
     "name": "stdout",
     "output_type": "stream",
     "text": [
      "2023/04/20 01:15:00\n",
      "2023/10/14 16:10:00\n",
      "2024/04/08 17:30:00\n",
      "2024/10/02 17:25:00\n",
      "2025/02/27 23:45:00\n",
      "2025/03/29 06:50:00\n",
      "2025/09/21 19:35:00\n",
      "2026/02/17 09:35:00\n",
      "2026/08/12 16:45:00\n",
      "2026/09/11 01:35:00\n",
      "2027/02/06 13:25:00\n",
      "2027/08/02 06:00:00\n",
      "2028/01/26 11:35:00\n",
      "2028/06/22 20:20:00\n",
      "2028/07/22 00:20:00\n",
      "2028/12/16 00:30:00\n",
      "2029/01/14 16:40:00\n",
      "2029/06/12 00:50:00\n",
      "2029/07/11 15:15:00\n",
      "2029/12/05 14:55:00\n",
      "2030/06/01 02:00:00\n",
      "2030/11/25 02:55:00\n",
      "2031/05/21 02:45:00\n",
      "2031/11/14 19:50:00\n",
      "2032/04/10 01:20:00\n",
      "2032/05/09 09:45:00\n",
      "2032/11/03 02:30:00\n",
      "2033/03/30 18:10:00\n",
      "2033/09/23 10:25:00\n"
     ]
    }
   ],
   "source": [
    "import ephem\n",
    "from datetime import datetime, timedelta\n",
    "\n",
    "trenutno = datetime(2023, 1, 1, 0, 0, 0)      \n",
    "kraj = datetime(2033, 12, 31, 23, 59, 59)  \n",
    "moon = ephem.Moon()\n",
    "sun = ephem.Sun()\n",
    "posmatrac = ephem.Observer()\n",
    "#posmatrac.elevation = -6371000            \n",
    "\n",
    "while trenutno <= kraj:\n",
    "    posmatrac.date = trenutno.strftime('%Y/%m/%d %H:%M:%S')\n",
    "\n",
    "    moon.compute(posmatrac)\n",
    "    sun.compute(posmatrac)\n",
    "\n",
    "    sep = abs((float(ephem.separation(moon, sun))\n",
    "        / 0.01745329252))\n",
    "\n",
    "    if sep < 1.59754941: #\n",
    "        print(trenutno.strftime('%Y/%m/%d %H:%M:%S'))\n",
    "        trenutno += timedelta(days = 1)\n",
    "    else:\n",
    "        trenutno += timedelta(minutes = 5)"
   ]
  },
  {
   "cell_type": "markdown",
   "id": "b485ad43-85a7-4790-be46-a49a453f702a",
   "metadata": {},
   "source": [
    "##### 2. Napisati kod koji racuna datume i vremena pomracenja Meseca u narednih 10 godina."
   ]
  },
  {
   "cell_type": "code",
   "execution_count": 34,
   "id": "f02d9e6c-8495-4b52-b0ea-a4a385158c7c",
   "metadata": {},
   "outputs": [
    {
     "name": "stdout",
     "output_type": "stream",
     "text": [
      "2024/3/25 05:00:00\n",
      "2024/10/17 11:00:00\n",
      "2025/3/14 05:00:00\n",
      "2025/9/7 17:00:00\n",
      "2026/3/3 10:00:00\n",
      "2026/8/28 04:00:00\n",
      "2027/1/22 11:00:00\n",
      "2027/8/17 07:00:00\n",
      "2028/1/12 03:00:00\n",
      "2028/12/31 14:00:00\n",
      "2029/6/26 03:00:00\n",
      "2029/12/20 20:00:00\n",
      "2030/6/15 16:00:00\n",
      "2030/11/10 05:00:00\n",
      "2031/6/5 11:00:00\n",
      "2031/10/30 07:00:00\n",
      "2032/4/25 13:00:00\n",
      "2032/10/18 17:00:00\n",
      "2033/4/14 15:00:00\n",
      "2033/10/8 11:00:00\n",
      "bice 20 pomracenja\n"
     ]
    }
   ],
   "source": [
    "posmatrac = ephem.Observer()\n",
    "posmatrac.lat, posmatrac.lon = '44.8125', '20.4612'\n",
    "date = ephem.Date('2023/12/1 10:00')\n",
    "posmatrac.date = date\n",
    "\n",
    "sun = ephem.Sun()\n",
    "sun.compute(posmatrac)\n",
    "moon = ephem.Moon()\n",
    "moon.compute(posmatrac)\n",
    "\n",
    "kraj = ephem.date('2033/12/1 10:00')\n",
    "i = 0\n",
    "while date < kraj:\n",
    "\n",
    "    posmatrac.date = date\n",
    "    moon.compute(posmatrac)\n",
    "    sun.compute(posmatrac)\n",
    "    s = abs((float(ephem.separation(moon, sun))/ 0.01745329252) - 180)\n",
    "\n",
    "\n",
    "\n",
    "    if s < 1.3:\n",
    "        print(date)\n",
    "        i += 1\n",
    "        date = ephem.date(posmatrac.date + ephem.hour*24)\n",
    "    else:\n",
    "\n",
    "        date = ephem.date(posmatrac.date + ephem.hour)\n",
    "\n",
    "print(\"bice\",i,\"pomracenja\")"
   ]
  },
  {
   "cell_type": "markdown",
   "id": "54a022d5-5584-44cf-a4f5-945f38244eb1",
   "metadata": {},
   "source": [
    "##### 3. Napisati kod koji racuna sve tranzite Venere preko Sunca u periodu od 1630 do 2200. godine"
   ]
  },
  {
   "cell_type": "code",
   "execution_count": 28,
   "id": "8c6ab508-f964-4a22-afc8-72807d2743ab",
   "metadata": {},
   "outputs": [
    {
     "name": "stdout",
     "output_type": "stream",
     "text": [
      "1\n",
      "1631/12/7 05:00:00\n",
      "1\n",
      "1639/12/4 16:00:00\n",
      "1\n",
      "1761/6/6 03:00:00\n",
      "1\n",
      "1769/6/3 20:00:00\n"
     ]
    }
   ],
   "source": [
    "import numpy as np\n",
    "\n",
    "posmatrac = ephem.Observer()\n",
    "posmatrac.lat, posmatrac.lon = '44.8125', '20.4612'\n",
    "date = ephem.Date('1630/12/1 10:00')\n",
    "posmatrac.date = date\n",
    "\n",
    "sun = ephem.Sun()\n",
    "sun.compute(posmatrac)\n",
    "venus = ephem.Venus()\n",
    "venus.compute(posmatrac)\n",
    "\n",
    "kraj = ephem.date('1800/12/1 10:00')\n",
    "\n",
    "while date < kraj:\n",
    "    posmatrac.date = date\n",
    "    venus.compute(posmatrac)\n",
    "    sun.compute(posmatrac)\n",
    "    s = abs((float(ephem.separation(venus, sun))))#/ 0.01745329252))\n",
    "\n",
    "    if (s < float(sun.radius)) and (sun.earth_distance > venus.earth_distance):\n",
    "        print(1)\n",
    "        print(date)\n",
    "        date = ephem.date(posmatrac.date + ephem.hour*24*7*365)\n",
    "    \n",
    "    else:\n",
    "        date = ephem.date(posmatrac.date + ephem.hour)\n",
    "\n"
   ]
  },
  {
   "cell_type": "code",
   "execution_count": 26,
   "id": "7fcc25f7-7407-431e-b9d9-cad2659bde2f",
   "metadata": {},
   "outputs": [
    {
     "name": "stdout",
     "output_type": "stream",
     "text": [
      "29.958137426555197\n",
      "0.00472125641909429\n"
     ]
    }
   ],
   "source": [
    "print(s)\n",
    "print(float(sun.radius))\n"
   ]
  },
  {
   "cell_type": "code",
   "execution_count": null,
   "id": "2090aae7-f387-4299-ad5d-5f7473479bbc",
   "metadata": {},
   "outputs": [],
   "source": []
  }
 ],
 "metadata": {
  "kernelspec": {
   "display_name": "Python 3 (ipykernel)",
   "language": "python",
   "name": "python3"
  },
  "language_info": {
   "codemirror_mode": {
    "name": "ipython",
    "version": 3
   },
   "file_extension": ".py",
   "mimetype": "text/x-python",
   "name": "python",
   "nbconvert_exporter": "python",
   "pygments_lexer": "ipython3",
   "version": "3.11.6"
  }
 },
 "nbformat": 4,
 "nbformat_minor": 5
}
