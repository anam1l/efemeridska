{
 "cells": [
  {
   "cell_type": "markdown",
   "id": "4a17d1ec-c2c7-4947-8d62-265d5e39f7e1",
   "metadata": {},
   "source": [
    "# Vezbe 2"
   ]
  },
  {
   "cell_type": "code",
   "execution_count": 2,
   "id": "29028f60-a0a8-4ff3-a080-a60417a7b910",
   "metadata": {},
   "outputs": [],
   "source": [
    "import ephem"
   ]
  },
  {
   "cell_type": "markdown",
   "id": "a33057b6-ef54-4e9a-912c-a67fd74a0f1d",
   "metadata": {},
   "source": [
    "# Tutorijal 1"
   ]
  },
  {
   "cell_type": "markdown",
   "id": "510b41f7-f872-48c0-8d03-43d9fc62dd53",
   "metadata": {},
   "source": [
    "##### 1. U kom sazvezdu se nalazio Uran u trenutku njegovog otkrica 13. marta 1781. godine? Koje su bile njegove ekvatorske koordinate i magnituda?"
   ]
  },
  {
   "cell_type": "code",
   "execution_count": 3,
   "id": "508c2cb1-4c31-42c9-abce-b55b7e2d4855",
   "metadata": {},
   "outputs": [
    {
     "name": "stdout",
     "output_type": "stream",
     "text": [
      "5:35:45.28 23:32:54.1 5.6\n",
      "('Tau', 'Taurus')\n"
     ]
    }
   ],
   "source": [
    "u = ephem.Uranus()\n",
    "u.compute('1781/3/13')\n",
    "print('%s %s %s' % (u.ra,u.dec,u.mag))\n",
    "print(ephem.constellation(u))"
   ]
  },
  {
   "cell_type": "markdown",
   "id": "25fb1488-429f-4936-a3d0-af29731dc738",
   "metadata": {},
   "source": [
    "##### 2. Odrediti na kom rastojanju od Jupitera se nalazio neotkriveni Neptun kada ih je Galileo skupa posmatrao 28. decembra 1612. godine."
   ]
  },
  {
   "cell_type": "code",
   "execution_count": 9,
   "id": "f13e3f1f-2170-4cf1-b16a-c4fd34aa6fb2",
   "metadata": {},
   "outputs": [
    {
     "name": "stdout",
     "output_type": "stream",
     "text": [
      "koordinate Jupitera: \n",
      "11:48:20.52 2:41:13.6 -1.96\n",
      "koordinate Neptuna: \n",
      "11:49:15.77 2:37:04.5 7.92\n",
      "rastojanje: \n",
      "0:14:24.6\n"
     ]
    }
   ],
   "source": [
    "j = ephem.Jupiter('1612/12/28')\n",
    "n = ephem.Neptune('1612/12/28')\n",
    "print('koordinate Jupitera: ')\n",
    "print('%s %s %s' % (j.ra,j.dec,j.mag))\n",
    "print('koordinate Neptuna: ')\n",
    "print('%s %s %s' % (n.ra,n.dec,n.mag))\n",
    "print('rastojanje: ')\n",
    "print(ephem.separation(j,n))"
   ]
  },
  {
   "cell_type": "markdown",
   "id": "12d51102-1018-4fd0-b412-36ee1d5ffa6b",
   "metadata": {},
   "source": [
    "##### 3. Odrediti koji put predje Mars u toku jednog dana krecuci se po perihelu, a potom i po afelu. Utvrditi blizu koje od ovih tacaka se krece brze."
   ]
  },
  {
   "cell_type": "code",
   "execution_count": 11,
   "id": "12982f07-faec-4efc-8fed-dc05758163f8",
   "metadata": {},
   "outputs": [
    {
     "name": "stdout",
     "output_type": "stream",
     "text": [
      "0:26:11.4\n",
      "0:38:05.2\n"
     ]
    }
   ],
   "source": [
    "def hpos(body): return body.hlon, body.hlat\n",
    "ma0 = ephem.Mars('1976/05/21')\n",
    "ma1 = ephem.Mars('1976/05/22')\n",
    "print(ephem.separation(hpos(ma0),hpos(ma1)))\n",
    "mp0 = ephem.Mars('1975/06/13')\n",
    "mp1 = ephem.Mars('1975/06/14')\n",
    "print(ephem.separation(hpos(mp0),hpos(mp1)))"
   ]
  },
  {
   "cell_type": "markdown",
   "id": "db7873e3-be62-4960-be17-f3414803e0f0",
   "metadata": {},
   "source": [
    "##### 4. Odrediti deklinaciju Marsa na danasnji datum i dati rezultat u razlicitim formatima: dd:mm:ss (string) i radijanima (float)."
   ]
  },
  {
   "cell_type": "code",
   "execution_count": 13,
   "id": "70aae915-23fd-41b0-9222-7e5c9fe341ca",
   "metadata": {},
   "outputs": [
    {
     "name": "stdout",
     "output_type": "stream",
     "text": [
      "-14:44:55.2\n",
      "-0.257412565143\n"
     ]
    }
   ],
   "source": [
    "m = ephem.Mars('2023/10/27')\n",
    "print(str(m.dec))\n",
    "print('%.12f' % float(m.dec))"
   ]
  },
  {
   "cell_type": "markdown",
   "id": "abab06a3-5511-4efc-ab0e-5cff24e20dc2",
   "metadata": {},
   "source": [
    "##### 5. Koristeci prethodno uradjen zadatak, odrediti rastojanje Marsa u afelu u a.j., a zatim odrediti koju povrsinu prebrise u toku jednog dana (pps. pravougli trougao). Isto to odraditi i za perihel i pokazati da vazi 2. Keplerov zakon."
   ]
  },
  {
   "cell_type": "code",
   "execution_count": 6,
   "id": "a833a440-7cf1-43c9-8493-0a7780a84a0b",
   "metadata": {},
   "outputs": [
    {
     "name": "stdout",
     "output_type": "stream",
     "text": [
      "rastojanje u afelu u a.i.:\n",
      "0.0126911122281\n",
      "povrsina koju prebrise u afelu:\n",
      "0.0105710807908\n",
      "\n",
      "rastojanje u perihelu u a.i.:\n",
      "0.0153049789416\n",
      "povrsina koju prebrise u perihelu:\n",
      "0.0087658487289\n",
      "\n"
     ]
    }
   ],
   "source": [
    "def hpos(body): return body.hlon, body.hlat\n",
    "#afel\n",
    "ma0 = ephem.Mars('1976/05/21')\n",
    "ma1 = ephem.Mars('1976/05/22')\n",
    "\n",
    "\n",
    "aph_angle = ephem.separation(hpos(ma0), hpos(ma1))\n",
    "aph_distance = aph_angle * ma0.sun_distance\n",
    "print('rastojanje u afelu u a.i.:')\n",
    "print('%.13f' % aph_distance)\n",
    "\n",
    "#pretpostavili smo da je pravougli trougao, povrsina:\n",
    "aph_area = aph_distance*ma0.sun_distance/2\n",
    "print('povrsina koju prebrise u afelu:')\n",
    "print('%.13f' % aph_area)\n",
    "print()\n",
    "\n",
    "#perihel\n",
    "mp0 = ephem.Mars('1975/06/13')\n",
    "mp1 = ephem.Mars('1975/06/14')\n",
    "\n",
    "aph_angle2 = ephem.separation(hpos(mp0), hpos(mp1))\n",
    "aph_distance2 = aph_angle2 * mp0.sun_distance\n",
    "print('rastojanje u perihelu u a.i.:')\n",
    "print('%.13f' % aph_distance2)\n",
    "\n",
    "#pretpostavili smo da je pravougli trougao, povrsina:\n",
    "aph_area2 = aph_distance*mp0.sun_distance/2\n",
    "print('povrsina koju prebrise u perihelu:')\n",
    "print('%.13f' % aph_area2)\n",
    "print()"
   ]
  },
  {
   "cell_type": "markdown",
   "id": "bfa801fe-c493-456c-9f92-13ea48a8aaa1",
   "metadata": {},
   "source": [
    "## Tutorijal 2"
   ]
  },
  {
   "cell_type": "markdown",
   "id": "51399809-7967-41d1-885f-e805d4d9d24c",
   "metadata": {},
   "source": [
    "##### 6. Odrediti i odstampati UTC i lokalno vreme za Beograd na danasnji dan."
   ]
  },
  {
   "cell_type": "code",
   "execution_count": 31,
   "id": "3eec7e80-0a5f-4fe6-bc01-95efe51fbf75",
   "metadata": {},
   "outputs": [
    {
     "name": "stdout",
     "output_type": "stream",
     "text": [
      "UTC:  2023/10/27 10:00:00\n",
      "lokalno vreme:  Fri Oct 27 12:00:00 2023\n"
     ]
    }
   ],
   "source": [
    "print('UTC: ', ephem.Date('2023/10/27 10:00'))\n",
    "print('lokalno vreme: ',ephem.localtime(ephem.Date('2023/10/27 10:00')).ctime())"
   ]
  },
  {
   "cell_type": "markdown",
   "id": "7a7972d4-b47c-4217-a1de-506faa0ec20d",
   "metadata": {},
   "source": [
    "##### 7. Odrediti danasnji datum u broju dana ciji je pocetak merenja poceo 31. decembra 1899. godine u podne. Potom koristeci se tim rezultatom ponovo odstampati naredni dan."
   ]
  },
  {
   "cell_type": "code",
   "execution_count": 56,
   "id": "de50c7dc-0f93-4ae8-a677-025b015f0d77",
   "metadata": {},
   "outputs": [
    {
     "name": "stdout",
     "output_type": "stream",
     "text": [
      "45224.916666666664\n",
      "2023/10/27 10:00:00\n",
      "\n",
      "45225.916666666664\n",
      "2023/10/28 10:00:00\n"
     ]
    }
   ],
   "source": [
    "d = ephem.Date('2023/10/27 10:00')\n",
    "print(d + 0)\n",
    "print(ephem.Date(d))\n",
    "print()\n",
    "print(d + 1)\n",
    "print(ephem.Date(d+1))"
   ]
  },
  {
   "cell_type": "markdown",
   "id": "bc8cd7bf-011c-487d-8c92-063a948e2c60",
   "metadata": {},
   "source": [
    "##### 8. Definisati danasnji datum pomocu float, string i tuple tipa podatka."
   ]
  },
  {
   "cell_type": "code",
   "execution_count": 52,
   "id": "b71b4c7f-49cd-45eb-9f46-b9efd3de8313",
   "metadata": {},
   "outputs": [
    {
     "name": "stdout",
     "output_type": "stream",
     "text": [
      "float: 45224.916667\n",
      "string: 2023/10/27 10:00:00\n",
      "tuple: (2023, 10, 27, 10, 0, 0.0)\n"
     ]
    }
   ],
   "source": [
    "print('float: %f' % d)\n",
    "print('string: %s' % d)\n",
    "print('tuple:', d.tuple())"
   ]
  },
  {
   "cell_type": "markdown",
   "id": "e8c3ecb2-f3b6-40a7-8d34-a094ba0588a9",
   "metadata": {},
   "source": [
    "##### 9. Definisati posmatraca u Beogradu na datum i vreme pocetka ovonedeljnjih vezbi, a potom odrediti polozaje Sunca i Meseca u horizontskom koordinatnom sistemu za tog posmatraca."
   ]
  },
  {
   "cell_type": "code",
   "execution_count": 57,
   "id": "8d19bc90-4c63-4a6e-a13a-32d9ccb7917e",
   "metadata": {},
   "outputs": [
    {
     "name": "stdout",
     "output_type": "stream",
     "text": [
      "horizontske koordinate Sunca: 51:58:35.1 210:44:21.1\n",
      "horizontske koordinate Meseca: -46:45:24.1 58:50:01.9\n"
     ]
    }
   ],
   "source": [
    "posmatrac = ephem.Observer()\n",
    "posmatrac.lon, posmatrac.lat = '44.8125', '20.4612'\n",
    "posmatrac.date = '2023/10/27 10:00'\n",
    "\n",
    "sun,moon = ephem.Sun(), ephem.Moon()\n",
    "sun.compute(posmatrac)\n",
    "moon.compute(posmatrac)\n",
    "print('horizontske koordinate Sunca: %s %s' % (sun.alt,sun.az))\n",
    "print('horizontske koordinate Meseca: %s %s' % (moon.alt, moon.az))"
   ]
  },
  {
   "cell_type": "markdown",
   "id": "e8fcfeec-5eb3-41bb-a8ef-a33436839ad8",
   "metadata": {},
   "source": [
    "##### 10. Uraditi isto kao i u prethodnom zadatku (Beograd), samo za datum i vreme: 25. oktobar 2022. u 12:25 kada se dogodilo pomracenje Sunca. Na osnovu prividne velicine objekata, odrediti kom tipu ovo pomracenje pripada: delimicnom, prstenastom ili potpunom."
   ]
  },
  {
   "cell_type": "code",
   "execution_count": 9,
   "id": "60161569-b429-470e-a8d2-2eaec20ab2d5",
   "metadata": {},
   "outputs": [
    {
     "name": "stdout",
     "output_type": "stream",
     "text": [
      "rastojanje Sunca i Meseca: 0:25:23.8\n",
      "razlika u velicinama: -6.351196289062\n",
      "\n"
     ]
    }
   ],
   "source": [
    "posmatrac = ephem.Observer()\n",
    "posmatrac.lon, posmatrac.lat = '44.8125', '20.4612'\n",
    "posmatrac.date = '2022/10/25 12:25'\n",
    "\n",
    "sun,moon = ephem.Sun(), ephem.Moon()\n",
    "sun.compute(posmatrac)\n",
    "moon.compute(posmatrac)\n",
    "\n",
    "d = ephem.separation((sun.az,sun.alt),(moon.az,moon.alt))\n",
    "print('rastojanje Sunca i Meseca:', d)\n",
    "r = moon.size - sun.size\n",
    "print('razlika u velicinama: %.12f' % r)\n",
    "print()"
   ]
  },
  {
   "cell_type": "markdown",
   "id": "72e060e6-47b7-4fe3-90c5-153196dc6c43",
   "metadata": {},
   "source": [
    "##### 11. Odrediti promenu uglovne brizne Sunca tokom zalaska. Da li racun uzima u obzir prelamanje svetlosti u atmosferi? Potom promeniti vrednosti pritiska za definisanog posmatraca na vrednosti 0. Da li sada uzima u obzir prelamanje svetlosti?"
   ]
  },
  {
   "cell_type": "code",
   "execution_count": 117,
   "id": "3a49c3a1-a9b6-4ab3-becb-6afe8937b200",
   "metadata": {},
   "outputs": [
    {
     "name": "stdout",
     "output_type": "stream",
     "text": [
      "zalazak: 2023/10/27 14:29:02\n",
      "2023/10/27 14:34:02 -1:07:58.1 0:57:54.8\n",
      "2023/10/27 14:39:02 -1:55:19.7 0:53:45.7\n",
      "2023/10/27 14:44:02 -2:50:42.6 1:00:49.6\n",
      "2023/10/27 14:49:02 -5:08:14.6 2:19:45.7\n",
      "2023/10/27 14:54:02 -6:31:30.8 1:26:48.8\n",
      "2023/10/27 14:59:02 -7:44:52.8 1:17:16.5\n",
      "2023/10/27 15:04:02 -8:54:48.9 1:13:56.2\n",
      "2023/10/27 15:09:02 -10:03:59.4 1:13:07.9\n"
     ]
    }
   ],
   "source": [
    "posmatrac = ephem.Observer()\n",
    "posmatrac.lon, posmatrac.lat = '44.8125', '20.4612'\n",
    "posmatrac.date = posmatrac.next_setting(sun,start ='2023/10/27')\n",
    "sun.compute(posmatrac)\n",
    "\n",
    "print('zalazak:',posmatrac.next_setting(sun,start ='2023/10/27'))\n",
    "\n",
    "for i in range(8):\n",
    "    old_az, old_alt = sun.az, sun.alt\n",
    "    posmatrac.date += ephem.minute * 5\n",
    "    sun.compute(posmatrac)\n",
    "    sep = ephem.separation((old_az,old_alt),(sun.az,sun.alt))\n",
    "    print('%s %s %s' % (posmatrac.date, sun.alt, sep))"
   ]
  },
  {
   "cell_type": "code",
   "execution_count": 116,
   "id": "f36f0b9b-58c5-4d62-927f-6cc19a576843",
   "metadata": {},
   "outputs": [
    {
     "name": "stdout",
     "output_type": "stream",
     "text": [
      "zalazak: 2023/10/27 14:26:19\n",
      "2023/10/27 14:34:02 -2:01:48.0 1:52:59.4\n",
      "2023/10/27 14:39:02 -3:10:22.3 1:13:08.1\n",
      "2023/10/27 14:44:02 -4:19:03.4 1:13:08.0\n",
      "2023/10/27 14:49:02 -5:27:50.8 1:13:08.0\n",
      "2023/10/27 14:54:02 -6:36:44.4 1:13:08.0\n",
      "2023/10/27 14:59:02 -7:45:43.9 1:13:08.0\n",
      "2023/10/27 15:04:02 -8:54:48.9 1:13:07.9\n",
      "2023/10/27 15:09:02 -10:03:59.4 1:13:07.9\n"
     ]
    }
   ],
   "source": [
    "posmatrac = ephem.Observer()\n",
    "posmatrac.lon, posmatrac.lat = '44.8125', '20.4612'\n",
    "posmatrac.date = posmatrac.next_setting(sun,start ='2023/10/27')\n",
    "posmatrac.compute_pressure()\n",
    "posmatrac.pressure = 0\n",
    "sun.compute(posmatrac)\n",
    "\n",
    "print('zalazak:',posmatrac.next_setting(sun,start ='2023/10/27'))\n",
    "\n",
    "for i in range(8):\n",
    "    old_az, old_alt = sun.az, sun.alt\n",
    "    posmatrac.date += ephem.minute * 5\n",
    "    sun.compute(posmatrac)\n",
    "    sep = ephem.separation((old_az,old_alt),(sun.az,sun.alt))\n",
    "    print('%s %s %s' % (posmatrac.date, sun.alt, sep))"
   ]
  },
  {
   "cell_type": "markdown",
   "id": "1506711c-452f-4c80-b12c-22fd044cc4f4",
   "metadata": {},
   "source": [
    "##### 12. Odrediti koje od planeta su vidljive za definisanog posmatraca iz Beograda? Odstampati njihove horizontske koordinate i magnitude."
   ]
  },
  {
   "cell_type": "markdown",
   "id": "2f9dd449-21ba-41cf-9f46-69c7c5ec1059",
   "metadata": {
    "jp-MarkdownHeadingCollapsed": true
   },
   "source": [
    "###### pokusaj 1"
   ]
  },
  {
   "cell_type": "code",
   "execution_count": 16,
   "id": "21bb0cac-18d5-455c-a90c-de4343511144",
   "metadata": {},
   "outputs": [
    {
     "name": "stdout",
     "output_type": "stream",
     "text": [
      "Mercury\n"
     ]
    },
    {
     "ename": "AttributeError",
     "evalue": "module 'ephem' has no attribute 'ime'",
     "output_type": "error",
     "traceback": [
      "\u001b[0;31m---------------------------------------------------------------------------\u001b[0m",
      "\u001b[0;31mAttributeError\u001b[0m                            Traceback (most recent call last)",
      "Cell \u001b[0;32mIn[16], line 10\u001b[0m\n\u001b[1;32m      8\u001b[0m ime \u001b[38;5;241m=\u001b[39m lista\u001b[38;5;241m.\u001b[39mpop(i)\n\u001b[1;32m      9\u001b[0m \u001b[38;5;28mprint\u001b[39m(ime)\n\u001b[0;32m---> 10\u001b[0m x \u001b[38;5;241m=\u001b[39m \u001b[43mephem\u001b[49m\u001b[38;5;241;43m.\u001b[39;49m\u001b[43mime\u001b[49m()\n\u001b[1;32m     11\u001b[0m x\u001b[38;5;241m.\u001b[39mcompute(posmatrac)\n\u001b[1;32m     12\u001b[0m \u001b[38;5;28;01mif\u001b[39;00m(pop(i)\u001b[38;5;241m.\u001b[39maz \u001b[38;5;241m>\u001b[39m \u001b[38;5;241m0\u001b[39m):\n",
      "\u001b[0;31mAttributeError\u001b[0m: module 'ephem' has no attribute 'ime'"
     ]
    }
   ],
   "source": [
    "posmatrac = ephem.Observer()\n",
    "posmatrac.lon, posmatrac.lat = '44.8125', '20.4612'\n",
    "posmatrac.date = '2023/10/27 10:00'\n",
    "\n",
    "lista = ['Mercury', 'Venus', 'Mars', 'Jupyter',  'Saturn', 'Uranus', 'Neptune']\n",
    "\n",
    "for i in range(7):\n",
    "    ime = lista.pop(i)\n",
    "    print(ime)\n",
    "    x = ephem.ime()\n",
    "    x.compute(posmatrac)\n",
    "    if(pop(i).az > 0):\n",
    "        print(\"%s : %s %s %s \" % (x,x.az,x.alt, x.mag))"
   ]
  },
  {
   "cell_type": "markdown",
   "id": "b8a95716-e602-4e57-a604-3d5d99b81b13",
   "metadata": {
    "jp-MarkdownHeadingCollapsed": true
   },
   "source": [
    "###### pokusaj 2"
   ]
  },
  {
   "cell_type": "code",
   "execution_count": 22,
   "id": "6b9fe5cf-f3b1-4bb2-9812-abdc8d41d53e",
   "metadata": {},
   "outputs": [
    {
     "name": "stdout",
     "output_type": "stream",
     "text": [
      "mercury: 203:08:35.7 52:30:29.9 -0.85\n",
      "venus: 264:49:21.7 28:08:29.0 -4.23\n"
     ]
    },
    {
     "ename": "NameError",
     "evalue": "name 'mars' is not defined",
     "output_type": "error",
     "traceback": [
      "\u001b[0;31m---------------------------------------------------------------------------\u001b[0m",
      "\u001b[0;31mNameError\u001b[0m                                 Traceback (most recent call last)",
      "Cell \u001b[0;32mIn[22], line 21\u001b[0m\n\u001b[1;32m     19\u001b[0m     \u001b[38;5;28mprint\u001b[39m(\u001b[38;5;124m\"\u001b[39m\u001b[38;5;124mvenus: \u001b[39m\u001b[38;5;132;01m%s\u001b[39;00m\u001b[38;5;124m \u001b[39m\u001b[38;5;132;01m%s\u001b[39;00m\u001b[38;5;124m \u001b[39m\u001b[38;5;132;01m% s\u001b[39;00m\u001b[38;5;124m\"\u001b[39m \u001b[38;5;241m%\u001b[39m (venus\u001b[38;5;241m.\u001b[39maz,venus\u001b[38;5;241m.\u001b[39malt,venus\u001b[38;5;241m.\u001b[39mmag))\n\u001b[1;32m     20\u001b[0m \u001b[38;5;66;03m#mars\u001b[39;00m\n\u001b[0;32m---> 21\u001b[0m lista\u001b[38;5;241m.\u001b[39mappend(\u001b[43mmars\u001b[49m) \u001b[38;5;241m==\u001b[39m ephem\u001b[38;5;241m.\u001b[39mMars()\n\u001b[1;32m     22\u001b[0m mars\u001b[38;5;241m.\u001b[39mcompute(posmatrac)\n\u001b[1;32m     23\u001b[0m \u001b[38;5;28;01mif\u001b[39;00m(mars\u001b[38;5;241m.\u001b[39malt \u001b[38;5;241m>\u001b[39m \u001b[38;5;241m0\u001b[39m):\n",
      "\u001b[0;31mNameError\u001b[0m: name 'mars' is not defined"
     ]
    }
   ],
   "source": [
    "posmatrac = ephem.Observer()\n",
    "posmatrac.lon, posmatrac.lat = '44.8125', '20.4612'\n",
    "posmatrac.date = '2023/10/27 10:00'\n",
    "\n",
    "lista = []\n",
    "\n",
    "#merkur, venera ,zemlja, mars, jupiter, saturn, uran, neptun\n",
    "#merkur\n",
    "mercury = ephem.Mercury()\n",
    "lista.append(mercury)\n",
    "mercury.compute(posmatrac)\n",
    "if(mercury.alt > 0):\n",
    "    print(\"mercury: %s %s % s\" % (mercury.az,mercury.alt,mercury.mag))\n",
    "#venera\n",
    "venus = ephem.Venus()\n",
    "lista.append(venus)\n",
    "venus.compute(posmatrac)\n",
    "if(venus.alt > 0):\n",
    "    print(\"venus: %s %s % s\" % (venus.az,venus.alt,venus.mag))\n",
    "#mars\n",
    "lista.append(mars) == ephem.Mars()\n",
    "mars.compute(posmatrac)\n",
    "if(mars.alt > 0):\n",
    "    print(\"mars: %s %s % s\" % (mars.az,mars.alt,mars.mag))\n",
    "#jupiter\n",
    "lista.append(jupiter) == ephem.Jupiter()\n",
    "jupiter.compute(posmatrac)\n",
    "if(jupiter.alt > 0):\n",
    "    print(\"jupiter: %s %s % s\" % (jupiter.az,jupiter.alt,jupiter.mag))\n",
    "#saturn\n",
    "lista.append(saturn) == ephem.Saturn()\n",
    "saturn.compute(posmatrac)\n",
    "if(saturn.alt > 0):\n",
    "    print(\"saturn: %s %s % s\" % (saturn.az,saturn.alt,saturn.mag))\n",
    "#uranus\n",
    "lista.append(uranus) == ephem.Uranus()\n",
    "uranus.compute(posmatrac)\n",
    "if(uranus.alt > 0):\n",
    "    print(\"uranus: %s %s % s\" % (uranus.az,uranus.alt,uranus.mag))\n",
    "#neptun\n",
    "lista.append(neptune) == ephem.Neptune()\n",
    "neptune.compute(posmatrac)\n",
    "if(neptune.alt > 0):\n",
    "    print(\"neptune: %s %s % s\" % (neptune.az,neptune.alt,neptune.mag))\n",
    "\n",
    "for i in range(6):\n",
    "    a = lista.pop(i)\n",
    "    print(a)\n",
    "    if(a.alt < 0):\n",
    "        lista.remove('a')\n",
    "print(lista)"
   ]
  },
  {
   "cell_type": "markdown",
   "id": "46ac1018-8027-4527-a981-d634b15de963",
   "metadata": {},
   "source": [
    "###### pokusaj 3(uspesan)"
   ]
  },
  {
   "cell_type": "code",
   "execution_count": 38,
   "id": "21f3a190-7d58-468c-b4db-cdd86fcbb6a8",
   "metadata": {},
   "outputs": [
    {
     "name": "stdout",
     "output_type": "stream",
     "text": [
      "mercury:\n",
      " 203:08:35.7 52:30:29.9 -0.85\n",
      "venus:\n",
      " 264:49:21.7 28:08:29.0 -4.23\n",
      "mars:\n",
      " 199:52:07.7 52:41:38.2 1.57\n"
     ]
    }
   ],
   "source": [
    "posmatrac = ephem.Observer()\n",
    "posmatrac.lon, posmatrac.lat = '44.8125', '20.4612'\n",
    "posmatrac.date = '2023/10/27 10:00'\n",
    "\n",
    "\n",
    "#merkur, venera ,zemlja, mars, jupiter, saturn, uran, neptun\n",
    "#merkur\n",
    "mercury = ephem.Mercury()\n",
    "mercury.compute(posmatrac)\n",
    "if(mercury.alt > 0):\n",
    "    print(\"mercury:\\n %s %s % s\" % (mercury.az,mercury.alt,mercury.mag))\n",
    "#venera\n",
    "venus = ephem.Venus()\n",
    "venus.compute(posmatrac)\n",
    "if(venus.alt > 0):\n",
    "    print(\"venus:\\n %s %s % s\" % (venus.az,venus.alt,venus.mag))\n",
    "#mars\n",
    "mars = ephem.Mars()\n",
    "mars.compute(posmatrac)\n",
    "if(mars.alt > 0):\n",
    "    print(\"mars:\\n %s %s % s\" % (mars.az,mars.alt,mars.mag))\n",
    "#jupiter\n",
    "jupiter = ephem.Jupiter()\n",
    "jupiter.compute(posmatrac)\n",
    "if(jupiter.alt > 0):\n",
    "    print(\"jupiter:\\n %s %s % s\" % (jupiter.az,jupiter.alt,jupiter.mag))\n",
    "#saturn\n",
    "saturn = ephem.Saturn()\n",
    "saturn.compute(posmatrac)\n",
    "if(saturn.alt > 0):\n",
    "    print(\"saturn:\\n %s %s % s\" % (saturn.az,saturn.alt,saturn.mag))\n",
    "#uranus\n",
    "uranus = ephem.Uranus()\n",
    "uranus.compute(posmatrac)\n",
    "if(uranus.alt > 0):\n",
    "    print(\"uranus:\\n %s %s % s\" % (uranus.az,uranus.alt,uranus.mag))\n",
    "#neptun\n",
    "neptune = ephem.Neptune()\n",
    "neptune.compute(posmatrac)\n",
    "if(neptune.alt > 0):\n",
    "    print(\"neptune:\\n %s %s % s\" % (neptune.az,neptune.alt,neptune.mag))"
   ]
  },
  {
   "cell_type": "markdown",
   "id": "c66dad65-20db-4682-92db-8edccaeb58b9",
   "metadata": {},
   "source": [
    "##### 13. Definisati posmatraca u Beogradu i u odnosu na tog posmatraca pozvati zvezdu Polaris. Potom odrediti deklinaciju:\n",
    "- na danasnji dan za epohu 2000\n",
    "- na danasnji dan za epohu 1000\n",
    "- na prvi dan 1000. godine za epohu 2000\n",
    "- na prvi dan 1000. godine za epohu 1000\n",
    "- \n",
    "Koji je razlog razlicitih vrednosti ovih deklinacija?"
   ]
  },
  {
   "cell_type": "code",
   "execution_count": 17,
   "id": "c87a4eb5-2181-44c8-9738-0db2efc57764",
   "metadata": {},
   "outputs": [
    {
     "name": "stdout",
     "output_type": "stream",
     "text": [
      "na danasnji dan za epohu 2000:\n",
      "89:21:53.8\n",
      "na danasnji dan za epohu 1000:\n",
      "89:21:53.8\n",
      "na prvi dan 1000. godine za epohu 2000:\n",
      "83:47:41.7\n",
      "na prvi dan 1000. godine za epohu 1000:\n",
      "83:47:41.7\n"
     ]
    }
   ],
   "source": [
    "#polaris = ephem.readdb(\"Polaris,f|M|F7,2:31:48.704,89:15:50.72,2.02\")\n",
    "polaris = ephem.readdb(\"Polaris,f|S|F7,2.53030100|44.22,89.26410949|-11.74,1.97,2000\")\n",
    "\n",
    "#posmatrac = ephem.Observer()\n",
    "\n",
    "#posmatrac.lon, posmatrac.lat = '44.8125', '20.4612'\n",
    "#polaris.compute(posmatrac)\n",
    "\n",
    "print('na danasnji dan za epohu 2000:')\n",
    "polaris.compute('2023',epoch='2000')\n",
    "print(polaris.g_dec)\n",
    "\n",
    "print('na danasnji dan za epohu 1000:')\n",
    "polaris.compute('2023',epoch='1000')\n",
    "print(polaris.g_dec)\n",
    "\n",
    "print('na prvi dan 1000. godine za epohu 2000:')\n",
    "polaris.compute('1000/01/01',epoch='2000')\n",
    "print(polaris.g_dec)\n",
    "\n",
    "print('na prvi dan 1000. godine za epohu 1000:')\n",
    "polaris.compute('1000',epoch='1000')\n",
    "print(polaris.g_dec)"
   ]
  },
  {
   "cell_type": "code",
   "execution_count": null,
   "id": "45076f16-4062-4992-a838-10a477626e88",
   "metadata": {},
   "outputs": [],
   "source": []
  }
 ],
 "metadata": {
  "kernelspec": {
   "display_name": "Python 3 (ipykernel)",
   "language": "python",
   "name": "python3"
  },
  "language_info": {
   "codemirror_mode": {
    "name": "ipython",
    "version": 3
   },
   "file_extension": ".py",
   "mimetype": "text/x-python",
   "name": "python",
   "nbconvert_exporter": "python",
   "pygments_lexer": "ipython3",
   "version": "3.11.6"
  }
 },
 "nbformat": 4,
 "nbformat_minor": 5
}
