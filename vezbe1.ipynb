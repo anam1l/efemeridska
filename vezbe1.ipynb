{
 "cells": [
  {
   "cell_type": "markdown",
   "id": "b9419401-829d-4262-a44e-7f5479eb2f5e",
   "metadata": {},
   "source": [
    "# uvod"
   ]
  },
  {
   "cell_type": "code",
   "execution_count": 2,
   "id": "b8aaf49c-bd70-4ca9-a22c-b51971dbaade",
   "metadata": {},
   "outputs": [
    {
     "name": "stdout",
     "output_type": "stream",
     "text": [
      "Collecting numpy\n",
      "  Obtaining dependency information for numpy from https://files.pythonhosted.org/packages/c5/9e/2d6d9d8f0ec910539ee721f86f23489a0eedb25bd51f4268ae0899f6a3ab/numpy-1.26.1-cp311-cp311-macosx_10_9_x86_64.whl.metadata\n",
      "  Downloading numpy-1.26.1-cp311-cp311-macosx_10_9_x86_64.whl.metadata (61 kB)\n",
      "\u001b[2K     \u001b[90m━━━━━━━━━━━━━━━━━━━━━━━━━━━━━━━━━━━━━━━\u001b[0m \u001b[32m61.2/61.2 kB\u001b[0m \u001b[31m995.1 kB/s\u001b[0m eta \u001b[36m0:00:00\u001b[0m \u001b[36m0:00:01\u001b[0m\n",
      "\u001b[?25hDownloading numpy-1.26.1-cp311-cp311-macosx_10_9_x86_64.whl (20.6 MB)\n",
      "\u001b[2K   \u001b[90m━━━━━━━━━━━━━━━━━━━━━━━━━━━━━━━━━━━━━━━━\u001b[0m \u001b[32m20.6/20.6 MB\u001b[0m \u001b[31m8.4 MB/s\u001b[0m eta \u001b[36m0:00:00\u001b[0m00:01\u001b[0m00:01\u001b[0mm\n",
      "\u001b[?25hInstalling collected packages: numpy\n",
      "Successfully installed numpy-1.26.1\n",
      "\n",
      "\u001b[1m[\u001b[0m\u001b[34;49mnotice\u001b[0m\u001b[1;39;49m]\u001b[0m\u001b[39;49m A new release of pip is available: \u001b[0m\u001b[31;49m23.2.1\u001b[0m\u001b[39;49m -> \u001b[0m\u001b[32;49m23.3\u001b[0m\n",
      "\u001b[1m[\u001b[0m\u001b[34;49mnotice\u001b[0m\u001b[1;39;49m]\u001b[0m\u001b[39;49m To update, run: \u001b[0m\u001b[32;49m/usr/local/Cellar/jupyterlab/4.0.7/libexec/bin/python -m pip install --upgrade pip\u001b[0m\n",
      "Note: you may need to restart the kernel to use updated packages.\n"
     ]
    }
   ],
   "source": [
    "pip install numpy"
   ]
  },
  {
   "cell_type": "code",
   "execution_count": 4,
   "id": "6b270ba9-bda2-47ad-89f7-83d1db7abe6a",
   "metadata": {},
   "outputs": [
    {
     "data": {
      "text/plain": [
       "array(5)"
      ]
     },
     "execution_count": 4,
     "metadata": {},
     "output_type": "execute_result"
    }
   ],
   "source": [
    "import numpy as np\n",
    "a = np.array(5)\n",
    "a"
   ]
  },
  {
   "cell_type": "code",
   "execution_count": 5,
   "id": "20d3bfb6-858e-4c80-ae47-20224846c965",
   "metadata": {},
   "outputs": [
    {
     "name": "stdout",
     "output_type": "stream",
     "text": [
      "5\n"
     ]
    }
   ],
   "source": [
    "print(a)"
   ]
  },
  {
   "cell_type": "code",
   "execution_count": 6,
   "id": "afbf43fa-ded8-41b5-b8fe-2aea65dc095c",
   "metadata": {},
   "outputs": [],
   "source": [
    "#komentar "
   ]
  },
  {
   "cell_type": "markdown",
   "id": "e1610d92-db56-4764-9058-be5faf9a3c3d",
   "metadata": {},
   "source": [
    "# tipovi podataka"
   ]
  },
  {
   "cell_type": "code",
   "execution_count": 7,
   "id": "ad6ff64d-7be1-42c2-a79a-4d988acb779c",
   "metadata": {},
   "outputs": [],
   "source": [
    "i = 5 # interger\n",
    "f = 5.0 #float\n",
    "s = '5' #string, input se uvek ucitava kao string\n",
    "true = True #boolean = true i false vrednosti\n",
    "l = [5] #lista - neuredjena\n",
    "#array - uredjenija lista, moze bolje da se manipulise i treba da ima podatke istog tipa"
   ]
  },
  {
   "cell_type": "markdown",
   "id": "d65ae3e9-dfa1-4116-b3cd-8968349d2bcd",
   "metadata": {},
   "source": [
    "***"
   ]
  },
  {
   "cell_type": "code",
   "execution_count": 8,
   "id": "33596097-dd3a-42cd-9be1-606859eee01e",
   "metadata": {},
   "outputs": [
    {
     "name": "stdout",
     "output_type": "stream",
     "text": [
      "<class 'int'>\n",
      "<class 'float'>\n",
      "<class 'str'>\n",
      "<class 'bool'>\n",
      "<class 'list'>\n"
     ]
    }
   ],
   "source": [
    "#sam interpretira tip podataka\n",
    "print(type(i))\n",
    "print(type(f))\n",
    "print(type(s))\n",
    "print(type(true))\n",
    "print(type(l))"
   ]
  },
  {
   "cell_type": "markdown",
   "id": "7f7a2e18-aaad-475e-90ea-7b7c1a37a727",
   "metadata": {},
   "source": [
    "***"
   ]
  },
  {
   "cell_type": "code",
   "execution_count": 9,
   "id": "5cf5b74c-63a1-4820-a201-da3ca05a6adb",
   "metadata": {},
   "outputs": [
    {
     "name": "stdout",
     "output_type": "stream",
     "text": [
      "5.0\n",
      "<class 'float'>\n"
     ]
    }
   ],
   "source": [
    "I = float(i)\n",
    "#menjanje tipa promenljive\n",
    "print(I)\n",
    "print(type(I))"
   ]
  },
  {
   "cell_type": "code",
   "execution_count": 18,
   "id": "5b261180-12d5-423c-b851-d00f65b7a248",
   "metadata": {},
   "outputs": [
    {
     "name": "stdout",
     "output_type": "stream",
     "text": [
      "['broj', 5, 6.0, [5, 6, 7]]\n",
      "['broj', 5, 6.0, [5, 6, 7], 444]\n"
     ]
    },
    {
     "data": {
      "text/plain": [
       "['broj', 5, 6.0, [5, 6, 7], 444, 333]"
      ]
     },
     "execution_count": 18,
     "metadata": {},
     "output_type": "execute_result"
    }
   ],
   "source": [
    "l2 = ['broj', 5, 6.0, [5,6,7]]\n",
    "print(l2)\n",
    "a=444\n",
    "b = 333\n",
    "#dodavanje podataka u listu\n",
    "l2.append(a)\n",
    "print(l2)\n",
    "l2.append(b)\n",
    "l2"
   ]
  },
  {
   "cell_type": "code",
   "execution_count": 19,
   "id": "c8c44734-d9e7-41bb-bcc4-d5ebfaf363cb",
   "metadata": {},
   "outputs": [
    {
     "data": {
      "text/plain": [
       "numpy.ndarray"
      ]
     },
     "execution_count": 19,
     "metadata": {},
     "output_type": "execute_result"
    }
   ],
   "source": [
    "import numpy as np\n",
    "a = np.array(5)\n",
    "type(a)"
   ]
  },
  {
   "cell_type": "markdown",
   "id": "41c5d7db-5765-45f6-88e3-f23361c448d4",
   "metadata": {},
   "source": [
    "***\n",
    "#generisanje nizova brojeva u odredjenom intervalu"
   ]
  },
  {
   "cell_type": "code",
   "execution_count": 30,
   "id": "15a764ed-af2c-4626-a12f-f89df5414122",
   "metadata": {},
   "outputs": [
    {
     "name": "stdout",
     "output_type": "stream",
     "text": [
      "[ 1 11 21 31 41 51 61 71 81 91]\n",
      "[  0.  10.  20.  30.  40.  50.  60.  70.  80.  90. 100.]\n"
     ]
    }
   ],
   "source": [
    "#arrange - zadajemo pocetnu, zavrsnu vrednost i korak\n",
    "print(np.arange(1,100,10))\n",
    "#linspace - kao u matlabu -zadaje se broj ekvidistantnih tacaka(?) od pocetne i krajnje vrednosti\n",
    "print(np.linspace(0,100,11))"
   ]
  },
  {
   "cell_type": "code",
   "execution_count": 20,
   "id": "572da877-76b0-42b9-9739-f8a8e99f03c7",
   "metadata": {},
   "outputs": [
    {
     "name": "stdout",
     "output_type": "stream",
     "text": [
      "[5, 5, 5, 5, 5]\n",
      "25\n"
     ]
    }
   ],
   "source": [
    "print(l * 5)\n",
    "print(a * 5)"
   ]
  },
  {
   "cell_type": "markdown",
   "id": "029ee968-ca67-4821-b517-7ef0351401e4",
   "metadata": {},
   "source": [
    "***\n",
    "generisanje nizova jedinica i nula"
   ]
  },
  {
   "cell_type": "code",
   "execution_count": 33,
   "id": "15afbd74-2bec-474e-8d97-6344d3bb2f34",
   "metadata": {},
   "outputs": [
    {
     "name": "stdout",
     "output_type": "stream",
     "text": [
      "[1. 1. 1. 1. 1. 1. 1. 1. 1. 1.]\n",
      "[0. 0. 0. 0. 0. 0. 0. 0. 0. 0.]\n"
     ]
    }
   ],
   "source": [
    "print(np.ones_like(np.linspace(1,100,10)))\n",
    "print(np.zeros_like(np.linspace(1,100,10)))"
   ]
  },
  {
   "cell_type": "markdown",
   "id": "dc9ac738-f8b5-4689-86e5-2f0977340dc6",
   "metadata": {},
   "source": [
    "***\n",
    "operacije sa matricama"
   ]
  },
  {
   "cell_type": "code",
   "execution_count": 34,
   "id": "c9dad857-d6ab-492c-9241-549f03f643bd",
   "metadata": {},
   "outputs": [
    {
     "data": {
      "text/plain": [
       "array([0., 0., 0., 0., 0., 0., 0., 0., 0.])"
      ]
     },
     "execution_count": 34,
     "metadata": {},
     "output_type": "execute_result"
    }
   ],
   "source": [
    "#razlika izmedju svakog clana\n",
    "np.diff(np.ones_like(np.linspace(1,100,10)))"
   ]
  },
  {
   "cell_type": "markdown",
   "id": "79b615fd-a280-47e6-81f3-b43dea658b00",
   "metadata": {},
   "source": [
    "***"
   ]
  },
  {
   "cell_type": "markdown",
   "id": "bae712ed-9fc5-4367-a5ee-9752080aa228",
   "metadata": {},
   "source": [
    "# paketi"
   ]
  },
  {
   "cell_type": "code",
   "execution_count": 41,
   "id": "488b28d8-5a38-45d9-8bdf-c73074fd6469",
   "metadata": {},
   "outputs": [
    {
     "name": "stdout",
     "output_type": "stream",
     "text": [
      "Requirement already satisfied: pip in /usr/local/lib/python3.11/site-packages (23.2.1)\n",
      "Collecting pip\n",
      "  Obtaining dependency information for pip from https://files.pythonhosted.org/packages/e0/63/b428aaca15fcd98c39b07ca7149e24bc14205ad0f1c80ba2b01835aedde1/pip-23.3-py3-none-any.whl.metadata\n",
      "  Downloading pip-23.3-py3-none-any.whl.metadata (3.5 kB)\n",
      "Downloading pip-23.3-py3-none-any.whl (2.1 MB)\n",
      "\u001b[2K   \u001b[90m━━━━━━━━━━━━━━━━━━━━━━━━━━━━━━━━━━━━━━━━\u001b[0m \u001b[32m2.1/2.1 MB\u001b[0m \u001b[31m11.1 MB/s\u001b[0m eta \u001b[36m0:00:00\u001b[0m00:01\u001b[0m0:01\u001b[0m\n",
      "\u001b[?25hInstalling collected packages: pip\n",
      "  Attempting uninstall: pip\n",
      "    Found existing installation: pip 23.2.1\n",
      "    Not uninstalling pip at /usr/local/lib/python3.11/site-packages, outside environment /usr/local/Cellar/jupyterlab/4.0.7/libexec\n",
      "    Can't uninstall 'pip'. No files were found to uninstall.\n",
      "Successfully installed pip-23.3\n",
      "Note: you may need to restart the kernel to use updated packages.\n"
     ]
    }
   ],
   "source": [
    "pip install --upgrade pip"
   ]
  },
  {
   "cell_type": "code",
   "execution_count": 15,
   "id": "99bf5f1f-556b-49eb-a613-8d2ca2ba1e7a",
   "metadata": {},
   "outputs": [
    {
     "name": "stdout",
     "output_type": "stream",
     "text": [
      "Collecting matplotlib\n",
      "  Downloading matplotlib-3.8.0-cp311-cp311-macosx_10_12_x86_64.whl.metadata (5.8 kB)\n",
      "Collecting contourpy>=1.0.1 (from matplotlib)\n",
      "  Downloading contourpy-1.1.1-cp311-cp311-macosx_10_9_x86_64.whl.metadata (5.9 kB)\n",
      "Collecting cycler>=0.10 (from matplotlib)\n",
      "  Downloading cycler-0.12.1-py3-none-any.whl.metadata (3.8 kB)\n",
      "Collecting fonttools>=4.22.0 (from matplotlib)\n",
      "  Downloading fonttools-4.43.1-cp311-cp311-macosx_10_9_x86_64.whl.metadata (152 kB)\n",
      "\u001b[2K     \u001b[90m━━━━━━━━━━━━━━━━━━━━━━━━━━━━━━━━━━━━━━━\u001b[0m \u001b[32m152.4/152.4 kB\u001b[0m \u001b[31m2.0 MB/s\u001b[0m eta \u001b[36m0:00:00\u001b[0ma \u001b[36m0:00:01\u001b[0m\n",
      "\u001b[?25hCollecting kiwisolver>=1.0.1 (from matplotlib)\n",
      "  Downloading kiwisolver-1.4.5-cp311-cp311-macosx_10_9_x86_64.whl.metadata (6.4 kB)\n",
      "Requirement already satisfied: numpy<2,>=1.21 in /usr/local/Cellar/jupyterlab/4.0.7/libexec/lib/python3.11/site-packages (from matplotlib) (1.26.1)\n",
      "Requirement already satisfied: packaging>=20.0 in /usr/local/opt/python-packaging/lib/python3.11/site-packages (from matplotlib) (23.2)\n",
      "Collecting pillow>=6.2.0 (from matplotlib)\n",
      "  Downloading Pillow-10.1.0-cp311-cp311-macosx_10_10_x86_64.whl.metadata (9.5 kB)\n",
      "Collecting pyparsing>=2.3.1 (from matplotlib)\n",
      "  Downloading pyparsing-3.1.1-py3-none-any.whl.metadata (5.1 kB)\n",
      "Requirement already satisfied: python-dateutil>=2.7 in /usr/local/Cellar/jupyterlab/4.0.7/libexec/lib/python3.11/site-packages (from matplotlib) (2.8.2)\n",
      "Requirement already satisfied: six>=1.5 in /usr/local/opt/six/lib/python3.11/site-packages (from python-dateutil>=2.7->matplotlib) (1.16.0)\n",
      "Downloading matplotlib-3.8.0-cp311-cp311-macosx_10_12_x86_64.whl (7.6 MB)\n",
      "\u001b[2K   \u001b[90m━━━━━━━━━━━━━━━━━━━━━━━━━━━━━━━━━━━━━━━━\u001b[0m \u001b[32m7.6/7.6 MB\u001b[0m \u001b[31m13.2 MB/s\u001b[0m eta \u001b[36m0:00:00\u001b[0m00:01\u001b[0m00:01\u001b[0m\n",
      "\u001b[?25hDownloading contourpy-1.1.1-cp311-cp311-macosx_10_9_x86_64.whl (248 kB)\n",
      "\u001b[2K   \u001b[90m━━━━━━━━━━━━━━━━━━━━━━━━━━━━━━━━━━━━━━━━\u001b[0m \u001b[32m248.6/248.6 kB\u001b[0m \u001b[31m8.5 MB/s\u001b[0m eta \u001b[36m0:00:00\u001b[0m\n",
      "\u001b[?25hDownloading cycler-0.12.1-py3-none-any.whl (8.3 kB)\n",
      "Downloading fonttools-4.43.1-cp311-cp311-macosx_10_9_x86_64.whl (2.2 MB)\n",
      "\u001b[2K   \u001b[90m━━━━━━━━━━━━━━━━━━━━━━━━━━━━━━━━━━━━━━━━\u001b[0m \u001b[32m2.2/2.2 MB\u001b[0m \u001b[31m14.7 MB/s\u001b[0m eta \u001b[36m0:00:00\u001b[0ma \u001b[36m0:00:01\u001b[0m\n",
      "\u001b[?25hDownloading kiwisolver-1.4.5-cp311-cp311-macosx_10_9_x86_64.whl (68 kB)\n",
      "\u001b[2K   \u001b[90m━━━━━━━━━━━━━━━━━━━━━━━━━━━━━━━━━━━━━━━━\u001b[0m \u001b[32m68.2/68.2 kB\u001b[0m \u001b[31m2.1 MB/s\u001b[0m eta \u001b[36m0:00:00\u001b[0m\n",
      "\u001b[?25hDownloading Pillow-10.1.0-cp311-cp311-macosx_10_10_x86_64.whl (3.5 MB)\n",
      "\u001b[2K   \u001b[90m━━━━━━━━━━━━━━━━━━━━━━━━━━━━━━━━━━━━━━━━\u001b[0m \u001b[32m3.5/3.5 MB\u001b[0m \u001b[31m17.0 MB/s\u001b[0m eta \u001b[36m0:00:00\u001b[0m00:01\u001b[0m00:01\u001b[0m\n",
      "\u001b[?25hDownloading pyparsing-3.1.1-py3-none-any.whl (103 kB)\n",
      "\u001b[2K   \u001b[90m━━━━━━━━━━━━━━━━━━━━━━━━━━━━━━━━━━━━━━━━\u001b[0m \u001b[32m103.1/103.1 kB\u001b[0m \u001b[31m3.4 MB/s\u001b[0m eta \u001b[36m0:00:00\u001b[0m\n",
      "\u001b[?25hInstalling collected packages: pyparsing, pillow, kiwisolver, fonttools, cycler, contourpy, matplotlib\n",
      "Successfully installed contourpy-1.1.1 cycler-0.12.1 fonttools-4.43.1 kiwisolver-1.4.5 matplotlib-3.8.0 pillow-10.1.0 pyparsing-3.1.1\n",
      "Note: you may need to restart the kernel to use updated packages.\n"
     ]
    }
   ],
   "source": [
    "pip install matplotlib"
   ]
  },
  {
   "cell_type": "code",
   "execution_count": 37,
   "id": "57be918c-4ba8-4829-b7ed-84545bdaa018",
   "metadata": {},
   "outputs": [
    {
     "name": "stdout",
     "output_type": "stream",
     "text": [
      "Collecting astropy\n",
      "  Obtaining dependency information for astropy from https://files.pythonhosted.org/packages/3c/db/34a29bc5d0eb2e691e2974632502646d338449f455355cd430e48a21667c/astropy-5.3.4-cp311-cp311-macosx_10_9_x86_64.whl.metadata\n",
      "  Downloading astropy-5.3.4-cp311-cp311-macosx_10_9_x86_64.whl.metadata (9.4 kB)\n",
      "Requirement already satisfied: numpy<2,>=1.21 in /usr/local/Cellar/jupyterlab/4.0.7/libexec/lib/python3.11/site-packages (from astropy) (1.26.1)\n",
      "Collecting pyerfa>=2.0 (from astropy)\n",
      "  Obtaining dependency information for pyerfa>=2.0 from https://files.pythonhosted.org/packages/45/f6/37c904d9e8d33199a670bf8718204627f2207a49a64779964f735bdd674f/pyerfa-2.0.1.1-cp39-abi3-macosx_10_9_x86_64.whl.metadata\n",
      "  Downloading pyerfa-2.0.1.1-cp39-abi3-macosx_10_9_x86_64.whl.metadata (5.5 kB)\n",
      "Requirement already satisfied: PyYAML>=3.13 in /usr/local/opt/pyyaml/lib/python3.11/site-packages (from astropy) (6.0.1)\n",
      "Requirement already satisfied: packaging>=19.0 in /usr/local/opt/python-packaging/lib/python3.11/site-packages (from astropy) (23.2)\n",
      "Downloading astropy-5.3.4-cp311-cp311-macosx_10_9_x86_64.whl (7.1 MB)\n",
      "\u001b[2K   \u001b[90m━━━━━━━━━━━━━━━━━━━━━━━━━━━━━━━━━━━━━━━━\u001b[0m \u001b[32m7.1/7.1 MB\u001b[0m \u001b[31m8.1 MB/s\u001b[0m eta \u001b[36m0:00:00\u001b[0m00:01\u001b[0m00:01\u001b[0mm\n",
      "\u001b[?25hDownloading pyerfa-2.0.1.1-cp39-abi3-macosx_10_9_x86_64.whl (342 kB)\n",
      "\u001b[2K   \u001b[90m━━━━━━━━━━━━━━━━━━━━━━━━━━━━━━━━━━━━━━━━\u001b[0m \u001b[32m342.9/342.9 kB\u001b[0m \u001b[31m7.9 MB/s\u001b[0m eta \u001b[36m0:00:00\u001b[0m:00:01\u001b[0m\n",
      "\u001b[?25hInstalling collected packages: pyerfa, astropy\n",
      "Successfully installed astropy-5.3.4 pyerfa-2.0.1.1\n",
      "\n",
      "\u001b[1m[\u001b[0m\u001b[34;49mnotice\u001b[0m\u001b[1;39;49m]\u001b[0m\u001b[39;49m A new release of pip is available: \u001b[0m\u001b[31;49m23.2.1\u001b[0m\u001b[39;49m -> \u001b[0m\u001b[32;49m23.3\u001b[0m\n",
      "\u001b[1m[\u001b[0m\u001b[34;49mnotice\u001b[0m\u001b[1;39;49m]\u001b[0m\u001b[39;49m To update, run: \u001b[0m\u001b[32;49m/usr/local/Cellar/jupyterlab/4.0.7/libexec/bin/python -m pip install --upgrade pip\u001b[0m\n",
      "Note: you may need to restart the kernel to use updated packages.\n"
     ]
    }
   ],
   "source": [
    "pip install astropy"
   ]
  },
  {
   "cell_type": "code",
   "execution_count": 38,
   "id": "ed35c73a-62ce-43e2-8eb6-1c86ccf4c7c5",
   "metadata": {},
   "outputs": [
    {
     "name": "stdout",
     "output_type": "stream",
     "text": [
      "Collecting ephem\n",
      "  Obtaining dependency information for ephem from https://files.pythonhosted.org/packages/eb/a8/dc9e99453ae6c959e810f4329ac3d66f8a9f447911928cca88fd2ca1c3c9/ephem-4.1.5-cp311-cp311-macosx_10_9_x86_64.whl.metadata\n",
      "  Downloading ephem-4.1.5-cp311-cp311-macosx_10_9_x86_64.whl.metadata (6.0 kB)\n",
      "Downloading ephem-4.1.5-cp311-cp311-macosx_10_9_x86_64.whl (1.4 MB)\n",
      "\u001b[2K   \u001b[90m━━━━━━━━━━━━━━━━━━━━━━━━━━━━━━━━━━━━━━━━\u001b[0m \u001b[32m1.4/1.4 MB\u001b[0m \u001b[31m8.3 MB/s\u001b[0m eta \u001b[36m0:00:00\u001b[0m:00:01\u001b[0m00:01\u001b[0m\n",
      "\u001b[?25hInstalling collected packages: ephem\n",
      "Successfully installed ephem-4.1.5\n",
      "\n",
      "\u001b[1m[\u001b[0m\u001b[34;49mnotice\u001b[0m\u001b[1;39;49m]\u001b[0m\u001b[39;49m A new release of pip is available: \u001b[0m\u001b[31;49m23.2.1\u001b[0m\u001b[39;49m -> \u001b[0m\u001b[32;49m23.3\u001b[0m\n",
      "\u001b[1m[\u001b[0m\u001b[34;49mnotice\u001b[0m\u001b[1;39;49m]\u001b[0m\u001b[39;49m To update, run: \u001b[0m\u001b[32;49m/usr/local/Cellar/jupyterlab/4.0.7/libexec/bin/python -m pip install --upgrade pip\u001b[0m\n",
      "Note: you may need to restart the kernel to use updated packages.\n"
     ]
    }
   ],
   "source": [
    "pip install ephem"
   ]
  },
  {
   "cell_type": "markdown",
   "id": "d5202062-6a90-45d6-a072-54f554aebd2d",
   "metadata": {},
   "source": [
    "*****"
   ]
  },
  {
   "cell_type": "code",
   "execution_count": 16,
   "id": "6af365b8-1bcb-4c26-afd1-795c5c5c60c8",
   "metadata": {},
   "outputs": [],
   "source": [
    "import numpy as np\n",
    "import matplotlib.pyplot as plt\n",
    "\n",
    "import astropy as ap\n",
    "import ephem as ep"
   ]
  },
  {
   "cell_type": "markdown",
   "id": "5e9b1022-5bb8-46d1-9f10-55e3e1ff8a7e",
   "metadata": {},
   "source": [
    "# petlje"
   ]
  },
  {
   "cell_type": "markdown",
   "id": "628df574-327f-4374-9b87-d15eac71f66b",
   "metadata": {},
   "source": [
    "for petlja"
   ]
  },
  {
   "cell_type": "code",
   "execution_count": 4,
   "id": "f40ee9a9-6146-41b7-94cb-054a2ffee98f",
   "metadata": {},
   "outputs": [
    {
     "name": "stdout",
     "output_type": "stream",
     "text": [
      "5\n"
     ]
    }
   ],
   "source": [
    "for i in range(5):\n",
    "    j = i + 1\n",
    "print(j)"
   ]
  },
  {
   "cell_type": "code",
   "execution_count": 6,
   "id": "35fd27bb-9a90-4bbe-aaf8-6f692f080124",
   "metadata": {},
   "outputs": [
    {
     "name": "stdout",
     "output_type": "stream",
     "text": [
      "3\n",
      "7\n",
      "4\n",
      "5\n",
      "8\n"
     ]
    }
   ],
   "source": [
    "a = [3,7,4,5,8]\n",
    "#printuje i=ti element iz niza a\n",
    "for i in a:\n",
    "    print(i)"
   ]
  },
  {
   "cell_type": "code",
   "execution_count": 12,
   "id": "09f7c5f4-bc1d-4858-ac06-be4168384576",
   "metadata": {},
   "outputs": [
    {
     "name": "stdout",
     "output_type": "stream",
     "text": [
      "0 : 3\n",
      "1 : 7\n",
      "2 : 6\n",
      "3 : 4\n",
      "4 : 5\n"
     ]
    }
   ],
   "source": [
    "N = [3,7,6,4,5]\n",
    "for i,n in enumerate(N):\n",
    "    print(i ,\":\", n)"
   ]
  },
  {
   "cell_type": "code",
   "execution_count": 14,
   "id": "9b8ad9c8-2918-4c15-9fb8-e1d6467c604a",
   "metadata": {},
   "outputs": [
    {
     "name": "stdout",
     "output_type": "stream",
     "text": [
      "0\n",
      "3\n",
      "1\n",
      "7\n",
      "2\n",
      "6\n",
      "3\n",
      "4\n",
      "4\n",
      "5\n"
     ]
    }
   ],
   "source": [
    "for i in range(len(N)):\n",
    "    print (i)\n",
    "    print(N[i])"
   ]
  },
  {
   "cell_type": "markdown",
   "id": "1913fd86-a19f-4a95-b431-976f2a28bd14",
   "metadata": {},
   "source": [
    "while petlja"
   ]
  },
  {
   "cell_type": "code",
   "execution_count": null,
   "id": "ffb2f837-347f-4cdf-80d8-f238d010d6e3",
   "metadata": {},
   "outputs": [],
   "source": []
  }
 ],
 "metadata": {
  "kernelspec": {
   "display_name": "Python 3 (ipykernel)",
   "language": "python",
   "name": "python3"
  },
  "language_info": {
   "codemirror_mode": {
    "name": "ipython",
    "version": 3
   },
   "file_extension": ".py",
   "mimetype": "text/x-python",
   "name": "python",
   "nbconvert_exporter": "python",
   "pygments_lexer": "ipython3",
   "version": "3.11.6"
  }
 },
 "nbformat": 4,
 "nbformat_minor": 5
}
